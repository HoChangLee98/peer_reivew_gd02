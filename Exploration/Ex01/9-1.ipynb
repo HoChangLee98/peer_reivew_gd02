{
 "cells": [
  {
   "cell_type": "code",
   "execution_count": 79,
   "id": "3f76c0ea",
   "metadata": {},
   "outputs": [],
   "source": [
    "from sklearn.datasets import load_diabetes\n",
    "from sklearn.model_selection import train_test_split\n",
    "import numpy as np\n",
    "import matplotlib.pyplot as plt\n",
    "diabetes = load_diabetes()"
   ]
  },
  {
   "cell_type": "code",
   "execution_count": 80,
   "id": "9dbd3d75",
   "metadata": {},
   "outputs": [],
   "source": [
    "# data\n",
    "df_X = np.array(diabetes.data) #(442,10)\n",
    "df_y = np.array(diabetes.target) # (442,)"
   ]
  },
  {
   "cell_type": "code",
   "execution_count": 162,
   "id": "827122a7",
   "metadata": {},
   "outputs": [],
   "source": [
    "# train_test_split\n",
    "X_train, X_test, y_train, y_test = train_test_split(df_X,df_y)"
   ]
  },
  {
   "cell_type": "code",
   "execution_count": 163,
   "id": "311ce80e",
   "metadata": {},
   "outputs": [
    {
     "name": "stdout",
     "output_type": "stream",
     "text": [
      "[0.91783529 0.74558719 0.78200911 0.620682   0.63871492 0.15336709\n",
      " 0.88542632 0.8620046  0.55949304 0.57529151] 0.7774011770433145\n"
     ]
    }
   ],
   "source": [
    "# W, b\n",
    "W = np.random.rand(10)\n",
    "b = np.random.rand()\n",
    "print(W,b)"
   ]
  },
  {
   "cell_type": "code",
   "execution_count": 83,
   "id": "ec509c86",
   "metadata": {},
   "outputs": [],
   "source": [
    "# model\n",
    "def model(X, W, b):\n",
    "    pred = 0\n",
    "    for i in range(10):\n",
    "        pred += X[:, i] * W[i]\n",
    "    pred += b\n",
    "    return pred"
   ]
  },
  {
   "cell_type": "code",
   "execution_count": 84,
   "id": "27d605f0",
   "metadata": {},
   "outputs": [],
   "source": [
    "# loss\n",
    "def loss_MSE(y, y_pred):\n",
    "    loss = ((y - y_pred)**2).mean()\n",
    "    return loss"
   ]
  },
  {
   "cell_type": "code",
   "execution_count": 85,
   "id": "5108d69c",
   "metadata": {},
   "outputs": [],
   "source": [
    "# gradient\n",
    "def gradient(X, y, y_pred):\n",
    "    N = len(y)\n",
    "    grad_w = 1/N * 2 * X.T.dot(y_pred - y)\n",
    "    grad_b = 2 * (y_pred - y).mean()\n",
    "    return grad_w, grad_b"
   ]
  },
  {
   "cell_type": "code",
   "execution_count": 164,
   "id": "ec9e98ab",
   "metadata": {},
   "outputs": [],
   "source": [
    "# learning rate\n",
    "lr = 0.5"
   ]
  },
  {
   "cell_type": "code",
   "execution_count": 165,
   "id": "be86f5fe",
   "metadata": {},
   "outputs": [
    {
     "data": {
      "image/png": "[encoded data removed]",
      "text/plain": [
       "<Figure size 432x288 with 1 Axes>"
      ]
     },
     "metadata": {
      "needs_background": "light"
     },
     "output_type": "display_data"
    }
   ],
   "source": [
    "# model training\n",
    "losses = []\n",
    "\n",
    "for i in range(1, 10001):\n",
    "    y_pred = model(X_train, W, b)\n",
    "    dW, db = gradient(X_train, y_train, y_pred)\n",
    "    W -= lr * dW\n",
    "    b -= lr * db\n",
    "    L = loss_MSE(y_train, y_pred)\n",
    "    losses.append(L)\n",
    "\n",
    "plt.plot(losses)\n",
    "plt.show()"
   ]
  },
  {
   "cell_type": "code",
   "execution_count": 166,
   "id": "7210d37a",
   "metadata": {},
   "outputs": [
    {
     "name": "stdout",
     "output_type": "stream",
     "text": [
      "[ -35.42693009 -212.80397961  483.38807119  361.28834666 -228.05972121\n",
      "   57.24312001 -123.22731768  148.08867803  510.31049287   85.60854916] 154.46937628962175\n",
      "2926.3526732248824\n"
     ]
    }
   ],
   "source": [
    "# test set\n",
    "prediction = model(X_test, W, b)\n",
    "print(W,b)\n",
    "mse = loss_MSE(y_test, prediction)\n",
    "print(mse)"
   ]
  },
  {
   "cell_type": "code",
   "execution_count": 167,
   "id": "689a9448",
   "metadata": {},
   "outputs": [
    {
     "data": {
      "image/png": "[encoded data removed]",
      "text/plain": [
       "<Figure size 432x288 with 1 Axes>"
      ]
     },
     "metadata": {
      "needs_background": "light"
     },
     "output_type": "display_data"
    }
   ],
   "source": [
    "# visualizing\n",
    "plt.scatter(X_test[:, 0], y_test, label='Test')\n",
    "plt.scatter(X_test[:, 0], prediction, label='Predict')\n",
    "plt.legend()\n",
    "plt.show()"
   ]
  },
  {
   "cell_type": "code",
   "execution_count": null,
   "id": "0dabb499",
   "metadata": {},
   "outputs": [],
   "source": []
  }
 ],
 "metadata": {
  "kernelspec": {
   "display_name": "Python 3 (ipykernel)",
   "language": "python",
   "name": "python3"
  },
  "language_info": {
   "codemirror_mode": {
    "name": "ipython",
    "version": 3
   },
   "file_extension": ".py",
   "mimetype": "text/x-python",
   "name": "python",
   "nbconvert_exporter": "python",
   "pygments_lexer": "ipython3",
   "version": "3.9.7"
  }
 },
 "nbformat": 4,
 "nbformat_minor": 5
}
